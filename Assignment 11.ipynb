{
 "cells": [
  {
   "cell_type": "markdown",
   "id": "0c9511e7-c961-4eb8-910c-c7254ffb7282",
   "metadata": {},
   "source": [
    "## Q1. Which function is used to open a file? What are the different modes of opening a file? Explain each mode of file opening."
   ]
  },
  {
   "cell_type": "markdown",
   "id": "d95e9be6-eccb-4be4-b732-a7eb473ef851",
   "metadata": {},
   "source": [
    "The open() function is used to open a file. When opening a file, you can specify the mode in which the file should be opened. The different modes are:\n",
    "\n",
    "'r': Read mode is used when you only want to read the file. This is the default mode.\n",
    "\n",
    "'w': Write mode is used when you want to write to the file. If the file already exists, the content is truncated (deleted). If the file does not exist, a new file is created.\n",
    "\n",
    "'a': Append mode is used when you want to append data to the end of an existing file. If the file does not exist, a new file is created.\n",
    "\n",
    "'x': Exclusive creation mode is used when you want to create a new file but only if the file does not already exist. If the file exists, the FileExistsError is raised.\n",
    "\n",
    "'b': Binary mode is used when you want to read or write binary data. When used in combination with other modes, it should be appended as a suffix to the mode string. For example, 'wb' for write in binary mode, or 'rb' for read in binary mode.\n",
    "\n",
    "'t': Text mode is used when you want to read or write text data. When used in combination with other modes, it should be appended as a suffix to the mode string. For example, 'wt' for write in text mode, or 'rt' for read in text mode.\n",
    "\n",
    "Here's an example of opening a file in read mode:"
   ]
  },
  {
   "cell_type": "code",
   "execution_count": 3,
   "id": "d2387253-ba8d-4f47-abdb-239c20e0db2a",
   "metadata": {},
   "outputs": [
    {
     "name": "stdout",
     "output_type": "stream",
     "text": [
      "<!-- ![ineuron-logo](https://user-images.githubusercontent.com/115527165/196935402-66c2496e-190d-4f67-9f6b-e42c06994999.png) -->\n",
      "# Jupyter lab\n",
      "- Execute the codes in each cell to get the output.\n",
      "\n"
     ]
    }
   ],
   "source": [
    "f = open(\"README.md\", \"r\")\n",
    "content = f.read()\n",
    "print(content)\n",
    "f.close()\n"
   ]
  },
  {
   "cell_type": "markdown",
   "id": "4670ee4a-0f27-4e47-8031-670eb3d844f9",
   "metadata": {},
   "source": [
    "## Q2. Why close() function is used? Why is it important to close a file?"
   ]
  },
  {
   "cell_type": "markdown",
   "id": "28d8638a-1e49-46f2-98b2-4c46080de39d",
   "metadata": {},
   "source": [
    "The close() function is used to close a file in Python. It's important to close a file after we're done with it because it frees up resources on your computer and ensures that the file's data is saved correctly.\n",
    "\n",
    "When a file is opened, the operating system reserves a specific amount of memory to hold the file's contents and to keep track of where you are in the file (known as the file pointer). This memory is not freed until the file is closed, which means that if you open a large number of files without closing them, your computer could run out of memory.\n",
    "\n",
    "Furthermore, when you write to a file, the data is not immediately saved to the file on your hard drive. Instead, it's temporarily stored in a buffer (a small area of memory) and is only saved to the file when the buffer is flushed (that is, when it's full or when the file is closed). If we don't close the file, the data in the buffer may be lost if the program terminates before the buffer is flushed.\n",
    "\n",
    "Therefore, it's a best practice to always close a file after we're done with it, to avoid running out of memory and to ensure that the file's data is saved correctly. This can be done using the close() method, as shown in the example I provided in my previous answer. Another way to ensure that a file is closed is to use a with statement, which automatically closes the file for you when the block of code is finished, even if an exception is raised:"
   ]
  },
  {
   "cell_type": "markdown",
   "id": "82f3219c-c139-49f3-9e2e-c3c9dec7954f",
   "metadata": {},
   "source": [
    "## Q3. Write a python program to create a text file. Write ‘I want to become a Data Scientist’ in that file. Then close the file. Open this file and read the content of the file."
   ]
  },
  {
   "cell_type": "code",
   "execution_count": 6,
   "id": "bf23c398-9535-4a5b-8581-2f0fe56f2502",
   "metadata": {},
   "outputs": [
    {
     "name": "stdout",
     "output_type": "stream",
     "text": [
      "I want to become a Data Scientist\n"
     ]
    }
   ],
   "source": [
    "# Create the file and write to it\n",
    "with open(\"sample.txt\", \"w\") as file:\n",
    "    file.write(\"I want to become a Data Scientist\")\n",
    "\n",
    "# Read the contents of the file\n",
    "with open(\"sample.txt\", \"r\") as file:\n",
    "    content = file.read()\n",
    "    print(content)\n",
    "file.close()\n"
   ]
  },
  {
   "cell_type": "markdown",
   "id": "e1f8b70b-da08-48ab-8749-1dd0cf395a28",
   "metadata": {},
   "source": [
    "## Q4. Explain the following with python code: read(), readline() and readlines()."
   ]
  },
  {
   "cell_type": "markdown",
   "id": "5e3673cb-2c4f-4d1a-a20d-1a8ac89adfc8",
   "metadata": {},
   "source": [
    "read()<br>\n",
    "The read() method reads the entire contents of a file and returns it as a string. You can specify the number of characters you want to read as an optional parameter. If you don't specify a number, the entire file is read. Here's an example:"
   ]
  },
  {
   "cell_type": "code",
   "execution_count": 3,
   "id": "e6f14fb7-b09e-45bc-a249-bd6bd8128774",
   "metadata": {},
   "outputs": [
    {
     "name": "stdout",
     "output_type": "stream",
     "text": [
      "I want to become a Data Scientist\n"
     ]
    }
   ],
   "source": [
    "# Open a file for reading\n",
    "file = open('sample.txt', 'r')\n",
    "\n",
    "# Read the entire file\n",
    "content = file.read()\n",
    "\n",
    "# Close the file\n",
    "file.close()\n",
    "\n",
    "print(content)\n"
   ]
  },
  {
   "cell_type": "markdown",
   "id": "a8c23677-a863-4ad6-b341-0952c12b6c75",
   "metadata": {},
   "source": [
    "The readline() method reads one line at a time from a file. Each time you call readline(), it reads the next line in the file. If you reach the end of the file, readline() will return an empty string. Here's an example:"
   ]
  },
  {
   "cell_type": "code",
   "execution_count": 4,
   "id": "e838e0ba-8572-4f58-b312-b4c92a7271eb",
   "metadata": {},
   "outputs": [
    {
     "name": "stdout",
     "output_type": "stream",
     "text": [
      "I want to become a Data Scientist\n",
      "\n"
     ]
    }
   ],
   "source": [
    "# Open a file for reading\n",
    "file = open('sample.txt', 'r')\n",
    "\n",
    "# Read the first line of the file\n",
    "line1 = file.readline()\n",
    "\n",
    "# Read the second line of the file\n",
    "line2 = file.readline()\n",
    "\n",
    "# Close the file\n",
    "file.close()\n",
    "\n",
    "print(line1)\n",
    "print(line2)\n"
   ]
  },
  {
   "cell_type": "markdown",
   "id": "a857ff68-6edc-43e2-b38b-b4d23d8cacf8",
   "metadata": {},
   "source": [
    "The readlines() method reads all the lines in a file and returns them as a list of strings. Each string in the list represents a line in the file. Here's an example:"
   ]
  },
  {
   "cell_type": "code",
   "execution_count": 6,
   "id": "48434115-90d7-4237-b7cb-b897f3da3a8a",
   "metadata": {},
   "outputs": [
    {
     "name": "stdout",
     "output_type": "stream",
     "text": [
      "I want to become a Data Scientist\n"
     ]
    }
   ],
   "source": [
    "# Open a file for reading\n",
    "file = open('sample.txt', 'r')\n",
    "\n",
    "# Read all the lines in the file\n",
    "lines = file.readlines()\n",
    "\n",
    "# Close the file\n",
    "file.close()\n",
    "\n",
    "# Print each line in the list\n",
    "for line in lines:\n",
    "    print(line)\n"
   ]
  },
  {
   "cell_type": "markdown",
   "id": "55b39a7b-e7a1-4531-be41-16714f111a17",
   "metadata": {},
   "source": [
    "## Q5. Explain why with statement is used with open(). What is the advantage of using with statement and open() together?"
   ]
  },
  {
   "cell_type": "markdown",
   "id": "85f4d746-a520-43a8-b452-07897b100d62",
   "metadata": {},
   "source": [
    "In Python, the with statement is used in conjunction with open() function when working with files. The with statement is used to ensure that a file is closed automatically after the block of code inside the with statement is executed, regardless of whether the code finishes successfully or not. The with statement handles the closing of the file automatically, so you don't have to worry about it.\n",
    "The with statement opens the file and assigns it to the file variable. The block of code inside the with statement reads the contents of the file using the read() method, and prints it to the console. Once the block of code is done executing, the with statement automatically closes the file.\n",
    "\n",
    "The main advantage of using with statement and open() together is that it helps avoid common errors that can occur when working with files, such as forgetting to close a file after opening it or not handling exceptions properly. By using the with statement, you can ensure that the file is closed properly, even if an exception is raised during the execution of the block of code.\n",
    "\n",
    "In summary, using with statement and open() together provides a cleaner and safer way to work with files in Python, ensuring that files are properly opened and closed and making the code easier to read and maintain."
   ]
  },
  {
   "cell_type": "code",
   "execution_count": 8,
   "id": "006095f7-95f8-4f05-88f5-471823f8fcf5",
   "metadata": {},
   "outputs": [
    {
     "name": "stdout",
     "output_type": "stream",
     "text": [
      "I want to become a Data Scientist\n"
     ]
    }
   ],
   "source": [
    "with open('sample.txt', 'r') as file:\n",
    "    contents = file.read()\n",
    "    print(contents)\n"
   ]
  },
  {
   "cell_type": "markdown",
   "id": "3b0e1f0f-9689-44b3-9d71-1e1145404d3e",
   "metadata": {},
   "source": [
    "## Q6. Explain the write() and writelines() functions. Give a suitable example."
   ]
  },
  {
   "cell_type": "markdown",
   "id": "83f55c98-a9db-481a-a1b3-7db18457331f",
   "metadata": {},
   "source": [
    "In Python, the write() and writelines() functions are used to write data to a file.\n",
    "\n",
    "write() function\n",
    "The write() function is used to write a string to a file. It takes a single argument, which is the string to be written to the file. Here's an example:"
   ]
  },
  {
   "cell_type": "code",
   "execution_count": 9,
   "id": "181e1934-e03e-4c79-b858-cf13b6a8086a",
   "metadata": {},
   "outputs": [],
   "source": [
    "# Open a file for writing\n",
    "file = open('example.txt', 'w')\n",
    "\n",
    "# Write a string to the file\n",
    "file.write('Hello, world!\\n')\n",
    "\n",
    "# Close the file\n",
    "file.close()\n"
   ]
  },
  {
   "cell_type": "markdown",
   "id": "d12b66ec-91ef-4fe1-8341-be2b34b51410",
   "metadata": {},
   "source": [
    "writelines() function\n",
    "The writelines() function is used to write a list of strings to a file. It takes a single argument, which is a list of strings to be written to the file. Here's an example:"
   ]
  },
  {
   "cell_type": "code",
   "execution_count": 10,
   "id": "a4bcb28c-a1d4-4ccf-82d2-e27d0aa5a712",
   "metadata": {},
   "outputs": [],
   "source": [
    "# Open a file for writing\n",
    "file = open('example.txt', 'w')\n",
    "\n",
    "# Write a list of strings to the file\n",
    "lines = ['Line 1\\n', 'Line 2\\n', 'Line 3\\n']\n",
    "file.writelines(lines)\n",
    "\n",
    "# Close the file\n",
    "file.close()\n"
   ]
  },
  {
   "cell_type": "code",
   "execution_count": null,
   "id": "bc178853-b881-444d-8e92-194083170a7f",
   "metadata": {},
   "outputs": [],
   "source": []
  }
 ],
 "metadata": {
  "kernelspec": {
   "display_name": "Python 3 (ipykernel)",
   "language": "python",
   "name": "python3"
  },
  "language_info": {
   "codemirror_mode": {
    "name": "ipython",
    "version": 3
   },
   "file_extension": ".py",
   "mimetype": "text/x-python",
   "name": "python",
   "nbconvert_exporter": "python",
   "pygments_lexer": "ipython3",
   "version": "3.10.8"
  }
 },
 "nbformat": 4,
 "nbformat_minor": 5
}
